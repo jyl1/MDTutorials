{
 "cells": [
  {
   "cell_type": "markdown",
   "metadata": {},
   "source": [
    "This is not (yet) a tutorial. If you troubleshoot it, we can make it a tutorial for future people."
   ]
  },
  {
   "cell_type": "markdown",
   "metadata": {},
   "source": [
    "RMS-angle and distance distribution in angle space  \n",
    "YJL Thurs Nov 19"
   ]
  },
  {
   "cell_type": "code",
   "execution_count": null,
   "metadata": {},
   "outputs": [],
   "source": []
  },
  {
   "cell_type": "code",
   "execution_count": 2,
   "metadata": {},
   "outputs": [],
   "source": [
    "import MDAnalysis as mda\n",
    "from MDAnalysis.analysis import dihedrals\n",
    "import numpy as np\n",
    "import pandas as pd\n",
    "import os\n",
    "import sys\n",
    "import glob\n",
    "import pathlib\n",
    "import scipy as sp\n",
    "from scipy import spatial"
   ]
  },
  {
   "cell_type": "code",
   "execution_count": 3,
   "metadata": {},
   "outputs": [],
   "source": [
    "import matplotlib\n",
    "from matplotlib import pylab\n",
    "import matplotlib.patches as patches\n",
    "import matplotlib.pyplot as plt\n",
    "params = {'legend.fontsize': 'x-large',\n",
    "         'axes.labelsize': 'x-large',\n",
    "         'axes.titlesize':'x-large',\n",
    "         'xtick.labelsize':'x-large',\n",
    "         'ytick.labelsize':'x-large'}\n",
    "matplotlib.pylab.rcParams.update(params)"
   ]
  },
  {
   "cell_type": "code",
   "execution_count": 8,
   "metadata": {},
   "outputs": [],
   "source": [
    "# I have this as a python package, but I'm still editing it,\n",
    "# so for now these are functions for you.\n",
    "\n",
    "# NB: MDTraj uses radians by default, while MDAnalysis uses degrees, \n",
    "# but only sometimes.\n",
    "\n",
    "#################################################################\n",
    "# Loading things (Utilities)\n",
    "def get_top_traj_path(dir_path, top_suffix, traj_suffix, sortfxn=None):\n",
    "    \"\"\"Get topology and trajectory path lists. This only works\n",
    "    if you have 1 .psf or other topology file and several .dcd\n",
    "    or other trajectory files in a folder.\"\"\"\n",
    "    # Topology path\n",
    "    top_path = glob.glob(os.path.join(dir_path, f\"*{top_suffix}\"))[0]\n",
    "    print(f\"Topology path exists: {os.path.exists(top_path)}\")\n",
    "    if os.path.exists(top_path):\n",
    "        print(f\"Topology file is: {top_path.split('/')[-1]}\")\n",
    "    else:\n",
    "        print(f\"No topology found matching type *{top_suffix}\")\n",
    "    # Trajectory path\n",
    "    traj_path_list = glob.glob(os.path.join(dir_path, f\"*{traj_suffix}\"))\n",
    "    if sortfxn is None:\n",
    "        traj_path_list.sort()\n",
    "    else:\n",
    "        traj_path_list = sortfxn(traj_path_list)\n",
    "    print(f\"{len(traj_path_list)} trajectories\")\n",
    "    return top_path, traj_path_list\n",
    "\n",
    "def fname2partno(fname):\n",
    "    \"\"\"Go from name to part number. I always include _ptX in my fname.\"\"\"\n",
    "    parts = fname.split('_')\n",
    "    found_part = False\n",
    "    part_no = np.nan\n",
    "    for part in parts:\n",
    "        if part.startswith('pt'):\n",
    "            try:\n",
    "                part_no = int(part.strip('pt'))\n",
    "                found_part = True\n",
    "            except:\n",
    "                print(f\"Could not find integer part number for {fname}\")\n",
    "    if not found_part:\n",
    "        print(f\"Could not find part number designation 'pt' for {fname}\")\n",
    "    return part_no\n",
    "    \n",
    "def sort_fname_bypart(traj_path_list):\n",
    "    pt_list = []\n",
    "    for trajpath in traj_path_list:\n",
    "        fname = pathlib.Path(trajpath).stem\n",
    "        part_no = fname2partno(fname)\n",
    "        pt_list.append(part_no)\n",
    "    # sort part list\n",
    "    pt_arr = np.array(pt_list)\n",
    "    order = np.argsort(pt_arr)\n",
    "    traj_order = [traj_path_list[i] for i in order]\n",
    "    return traj_order\n",
    "\n",
    "\n",
    "\n",
    "\n",
    "#################################################################\n",
    "# Dihedral angles\n",
    "\n",
    "def sel2phipsi(u, degree2radian=True):\n",
    "    \"\"\"MDAna selection u to phi and psi lists by segid\n",
    "    NB: segid is sometimes chain in VMD\"\"\"\n",
    "    segname_list = u.segments.segids.tolist()\n",
    "    psi_list = []\n",
    "    phi_list = []\n",
    "    for seg in segname_list:\n",
    "        # Chain information\n",
    "        chain = u.select_atoms(f\"protein and segid {seg}\")\n",
    "        # Phi and psi\n",
    "        phi_sel, psi_sel, ind_phi, ind_psi = get_phipsi_sel(chain)\n",
    "        phi_ang = get_dihe_ang(phi_sel, degree2radian)\n",
    "        psi_ang = get_dihe_ang(psi_sel, degree2radian)\n",
    "        # Append\n",
    "        phi_list.append(phi_ang)\n",
    "        psi_list.append(psi_ang)\n",
    "    return phi_list, psi_list\n",
    "\n",
    "def get_phipsi_sel(protein):\n",
    "    # NB: to get a selection, e.g. protein = u.select_atoms(\"protein\")\n",
    "    phi_sel = [res.phi_selection() for res in protein.residues[:]]\n",
    "    psi_sel = [res.psi_selection() for res in protein.residues[:]]\n",
    "    # deal with None (edges)\n",
    "    ind_phi, phi_sel = get_ind_none(phi_sel)\n",
    "    ind_psi, psi_sel = get_ind_none(psi_sel)\n",
    "    return phi_sel, psi_sel, ind_phi, ind_psi\n",
    "\n",
    "def get_dihe_ang(phi_sel, degree2radian=True):\n",
    "    \"\"\"Get dihedral angles corresponding to selection (here phi)\n",
    "    Input another dihedral selection (list) to get another angle.\"\"\"\n",
    "    phi_ang = mda.analysis.dihedrals.Dihedral(phi_sel).run().angles\n",
    "    if degree2radian:\n",
    "        phi_ang = phi_ang / 180 * np.pi\n",
    "    return phi_ang\n",
    "\n",
    "def get_ind_none(phi_sel):\n",
    "    \"\"\"Get indices in list that are none\"\"\"\n",
    "    ind_none = []\n",
    "    ind_not_none = []\n",
    "    new_sel = []\n",
    "    for i, sel in enumerate(phi_sel):\n",
    "        if sel is None:\n",
    "            ind_none.append(i)\n",
    "        else:\n",
    "            new_sel.append(sel)\n",
    "            ind_not_none.append(i)\n",
    "    return ind_not_none, new_sel\n",
    "\n",
    "\n",
    "# ###################################################################\n",
    "# From the circular analysis package\n",
    "def get_angdiff(x, y):\n",
    "    # NB: slightly slower but easier for me to read, possibly easier to dask-ify\n",
    "    diff = np.arctan2(np.sin(x-y), np.cos(x-y))\n",
    "    return diff\n",
    "\n",
    "\n",
    "def circ_dist(x, y):\n",
    "    # one option for distance in circular space\n",
    "    diff = np.arctan2(np.sin(x-y), np.cos(x-y))\n",
    "    dist = np.sqrt(np.sum(diff**2))\n",
    "    return dist\n",
    "\n",
    "def get_RMSA(traj, ref):\n",
    "    \"\"\"Root-mean-square angle\n",
    "    Input:\n",
    "        traj (Txm numpy array): dihedral angles from trajectory\n",
    "        ref (length m numpy array): dihedral angles from reference structure\n",
    "    Output:\n",
    "        rmsa (length T numpy array): root-mean-square of dihedral angles\n",
    "    \"\"\"\n",
    "    diff_dihe = get_angdiff(traj, ref)\n",
    "    rmsa = np.sqrt(np.mean(diff_dihe**2, axis=1))\n",
    "    return rmsa"
   ]
  },
  {
   "cell_type": "code",
   "execution_count": null,
   "metadata": {},
   "outputs": [],
   "source": []
  },
  {
   "cell_type": "code",
   "execution_count": 9,
   "metadata": {},
   "outputs": [
    {
     "name": "stdout",
     "output_type": "stream",
     "text": [
      "Checking: run_path exists: True\n",
      "Checking: ref_path exists: True\n",
      "\n",
      "Loading data\n",
      "Run\n",
      "Topology path exists: True\n",
      "Topology file is: s1hinge_6vsb_a_dry.psf\n",
      "7 trajectories\n",
      "\n",
      "Reference\n",
      "Topology path exists: True\n",
      "Topology file is: s1hinge_6vsb_b_dry.psf\n",
      "9 trajectories\n"
     ]
    }
   ],
   "source": [
    "project_path = os.path.abspath('..')\n",
    "\n",
    "data_path = os.path.join(project_path, 'data', 'coronavirus_s1hinge')\n",
    "run_path = os.path.join(data_path, 'traj_s1hinge_6vsb_a_Apr21')\n",
    "ref_path = os.path.join(data_path, 'traj_s1hinge_6vsb_b_Apr21')\n",
    "print(f\"Checking: run_path exists: {os.path.exists(run_path)}\")\n",
    "print(f\"Checking: ref_path exists: {os.path.exists(ref_path)}\")\n",
    "print(\"\")\n",
    "\n",
    "# Directory and file information\n",
    "print(\"Loading data\")\n",
    "print(\"Run\")\n",
    "run_top_path, run_traj_path_list = get_top_traj_path(run_path, 'dry.psf', '.dcd')\n",
    "print(\"\")\n",
    "print(\"Reference\")\n",
    "ref_top_path, ref_traj_path_list = get_top_traj_path(ref_path, 'dry.psf', 'dcd')\n",
    "\n",
    "\n",
    "# Load data into mdana\n",
    "u_run = mda.Universe(run_top_path, run_traj_path_list)\n",
    "u_ref = mda.Universe(ref_top_path, ref_traj_path_list)\n",
    "\n",
    "# Note: I don't load into memory to save memory, but you can if you have enough.\n",
    "# It speeds up the calculation at the cost of memory\n",
    "# u_run.transfer_to_memory()\n",
    "# u_ref.transfer_to_memory()\n",
    "\n"
   ]
  },
  {
   "cell_type": "code",
   "execution_count": 10,
   "metadata": {},
   "outputs": [
    {
     "name": "stdout",
     "output_type": "stream",
     "text": [
      "Run has 50020 frames. \n",
      "Ref has 53084 frames.\n"
     ]
    }
   ],
   "source": [
    "print(f\"Run has {u_run.trajectory.n_frames} frames. \\nRef has {u_ref.trajectory.n_frames} frames.\")"
   ]
  },
  {
   "cell_type": "code",
   "execution_count": 11,
   "metadata": {},
   "outputs": [],
   "source": [
    "# Phi and psi are lists of numpy arrays, one array per chain.\n",
    "degree2radian = True\n",
    "run_phi, run_psi = sel2phipsi(u_run, degree2radian)\n",
    "ref_phi, ref_psi = sel2phipsi(u_ref, degree2radian)"
   ]
  },
  {
   "cell_type": "code",
   "execution_count": 12,
   "metadata": {},
   "outputs": [
    {
     "name": "stdout",
     "output_type": "stream",
     "text": [
      "Angles from -3.14 to 3.14\n",
      "Run dihe data shape is (50020, 818)\n"
     ]
    }
   ],
   "source": [
    "# This example only has 1 chain, but the spike protein has\n",
    "# 3 chains (DESRES, Martha's simulations) or 6 chains (Bowman).\n",
    "# I'm leaving this setup in case you want to loop through the\n",
    "# chains in the future. \n",
    "chain_id = 0\n",
    "run_dihe_arr = np.column_stack((run_phi[chain_id], run_psi[chain_id]))\n",
    "ref_dihe_arr = np.column_stack((ref_phi[chain_id], ref_psi[chain_id]))\n",
    "\n",
    "print(f\"Angles from {np.min(run_dihe_arr):.2f} to {np.max(run_dihe_arr):.2f}\")\n",
    "print(f\"Run dihe data shape is {np.shape(run_dihe_arr)}\")"
   ]
  },
  {
   "cell_type": "markdown",
   "metadata": {},
   "source": [
    "# RMS-angle\n",
    "NB: results depend on structure used as reference"
   ]
  },
  {
   "cell_type": "code",
   "execution_count": 13,
   "metadata": {},
   "outputs": [],
   "source": [
    "# RMS-angle using the first frame of ref trajectory as the reference\n",
    "rmsa_run_vs_run0 = get_RMSA(run_dihe_arr, run_dihe_arr[0, :])\n",
    "rmsa_run_vs_ref0 = get_RMSA(run_dihe_arr, ref_dihe_arr[0, :])\n",
    "rmsa_ref_vs_ref0 = get_RMSA(ref_dihe_arr, ref_dihe_arr[0, :])"
   ]
  },
  {
   "cell_type": "code",
   "execution_count": 14,
   "metadata": {},
   "outputs": [
    {
     "data": {
      "image/png": "[encoded data removed]",
      "text/plain": [
       "<Figure size 720x288 with 1 Axes>"
      ]
     },
     "metadata": {
      "needs_background": "light"
     },
     "output_type": "display_data"
    }
   ],
   "source": [
    "fig, ax = plt.subplots(figsize=[10, 4])\n",
    "alpha = 0.4\n",
    "ax.plot(rmsa_run_vs_run0, alpha=alpha, label='run vs run frame 0')\n",
    "ax.plot(rmsa_run_vs_ref0, alpha=alpha, label='run vs ref frame 0')\n",
    "ax.plot(rmsa_ref_vs_ref0, alpha=alpha, label='ref vs ref frame 0')\n",
    "ax.set_ylabel('RMS-angle (Rad)')\n",
    "ax.set_xlabel('Frame # (time-like)')\n",
    "ax.legend()\n",
    "plt.show()"
   ]
  },
  {
   "cell_type": "markdown",
   "metadata": {},
   "source": [
    "# RMS distance distributions"
   ]
  },
  {
   "cell_type": "code",
   "execution_count": 15,
   "metadata": {},
   "outputs": [
    {
     "data": {
      "text/plain": [
       "4.457204986732053"
      ]
     },
     "execution_count": 15,
     "metadata": {},
     "output_type": "execute_result"
    }
   ],
   "source": [
    "# This is a callable a function for distance\n",
    "circ_dist(run_dihe_arr[0, :], run_dihe_arr[5, :])"
   ]
  },
  {
   "cell_type": "code",
   "execution_count": 16,
   "metadata": {},
   "outputs": [],
   "source": [
    "# T observations in n-dimensional space\n",
    "downsample = 1000\n",
    "dist_run_vs_run = sp.spatial.distance.cdist(run_dihe_arr[0::downsample, :], \n",
    "                                            run_dihe_arr[0::downsample, :], \n",
    "                                            metric=circ_dist)"
   ]
  },
  {
   "cell_type": "code",
   "execution_count": 17,
   "metadata": {},
   "outputs": [],
   "source": [
    "dist_run_vs_ref = sp.spatial.distance.cdist(run_dihe_arr[0::downsample, :], \n",
    "                                            ref_dihe_arr[0::downsample, :], \n",
    "                                            metric=circ_dist)\n",
    "dist_ref_vs_ref = sp.spatial.distance.cdist(ref_dihe_arr[0::downsample, :], \n",
    "                                            ref_dihe_arr[0::downsample, :], \n",
    "                                            metric=circ_dist)"
   ]
  },
  {
   "cell_type": "code",
   "execution_count": 18,
   "metadata": {},
   "outputs": [],
   "source": [
    "def mat2tri(mat):\n",
    "    ind_triu = np.triu_indices_from(mat, k=1)\n",
    "    val = mat[ind_triu]\n",
    "    return val"
   ]
  },
  {
   "cell_type": "code",
   "execution_count": 20,
   "metadata": {},
   "outputs": [
    {
     "data": {
      "image/png": "[encoded data removed]",
      "text/plain": [
       "<Figure size 432x288 with 1 Axes>"
      ]
     },
     "metadata": {
      "needs_background": "light"
     },
     "output_type": "display_data"
    }
   ],
   "source": [
    "fig, ax = plt.subplots()\n",
    "alpha = alpha\n",
    "bins = np.linspace(8, 24, 40)\n",
    "args = dict(bins=bins, alpha=alpha, density=True)\n",
    "ax.hist(mat2tri(dist_run_vs_run), label='run vs run', **args)\n",
    "ax.hist(mat2tri(dist_run_vs_ref), label='run vs ref', **args)\n",
    "ax.hist(mat2tri(dist_ref_vs_ref), label='ref vs ref', **args)\n",
    "plt.legend()\n",
    "plt.xlabel('Angular distance (rad)')\n",
    "plt.ylabel('PDF')\n",
    "plt.title('Comparing run vs ref')\n",
    "plt.yscale('log')\n",
    "plt.show()"
   ]
  },
  {
   "cell_type": "code",
   "execution_count": null,
   "metadata": {},
   "outputs": [],
   "source": []
  },
  {
   "cell_type": "code",
   "execution_count": null,
   "metadata": {},
   "outputs": [],
   "source": []
  },
  {
   "cell_type": "code",
   "execution_count": null,
   "metadata": {},
   "outputs": [],
   "source": []
  }
 ],
 "metadata": {
  "kernelspec": {
   "display_name": "Python 3",
   "language": "python",
   "name": "python3"
  },
  "language_info": {
   "codemirror_mode": {
    "name": "ipython",
    "version": 3
   },
   "file_extension": ".py",
   "mimetype": "text/x-python",
   "name": "python",
   "nbconvert_exporter": "python",
   "pygments_lexer": "ipython3",
   "version": "3.8.10"
  },
  "toc": {
   "base_numbering": 1,
   "nav_menu": {},
   "number_sections": true,
   "sideBar": true,
   "skip_h1_title": false,
   "title_cell": "Table of Contents",
   "title_sidebar": "Contents",
   "toc_cell": false,
   "toc_position": {},
   "toc_section_display": true,
   "toc_window_display": false
  }
 },
 "nbformat": 4,
 "nbformat_minor": 4
}
